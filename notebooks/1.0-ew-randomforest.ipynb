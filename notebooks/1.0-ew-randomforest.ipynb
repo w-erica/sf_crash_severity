{
 "cells": [
  {
   "cell_type": "markdown",
   "id": "4efc7615",
   "metadata": {},
   "source": [
    "the plan: don't transform the features At All, one hot encode anything that can be one hot encoded, do a random forest over it"
   ]
  },
  {
   "cell_type": "code",
   "execution_count": 1,
   "id": "9579e381",
   "metadata": {},
   "outputs": [],
   "source": [
    "# xg boost?"
   ]
  },
  {
   "cell_type": "code",
   "execution_count": 1,
   "id": "8bf53c19",
   "metadata": {},
   "outputs": [],
   "source": [
    "import pandas as pd\n",
    "import numpy as np\n",
    "import sklearn # not actually needed"
   ]
  },
  {
   "cell_type": "code",
   "execution_count": 2,
   "id": "3ee233ff",
   "metadata": {},
   "outputs": [],
   "source": [
    "import pickle"
   ]
  },
  {
   "cell_type": "code",
   "execution_count": 3,
   "id": "c3f05930",
   "metadata": {},
   "outputs": [],
   "source": [
    "from sklearn.model_selection import train_test_split\n",
    "from sklearn.compose import ColumnTransformer\n",
    "from sklearn.preprocessing import OneHotEncoder"
   ]
  },
  {
   "cell_type": "code",
   "execution_count": 4,
   "id": "452ac7f7",
   "metadata": {},
   "outputs": [
    {
     "name": "stderr",
     "output_type": "stream",
     "text": [
      "/var/folders/j1/4b075fzj2xdbn0txbrmsq7hm0000gn/T/ipykernel_61742/2720964843.py:1: DtypeWarning: Columns (3,15) have mixed types. Specify dtype option on import or set low_memory=False.\n",
      "  og_df = pd.read_csv(\"../src/data/Traffic_Crashes_Resulting_in_Injury_20240518.csv\")\n"
     ]
    }
   ],
   "source": [
    "og_df = pd.read_csv(\"../src/data/Traffic_Crashes_Resulting_in_Injury_20240518.csv\")"
   ]
  },
  {
   "cell_type": "code",
   "execution_count": 7,
   "id": "bd05d6bb",
   "metadata": {},
   "outputs": [
    {
     "data": {
      "text/plain": [
       "Index(['unique_id', 'cnn_intrsctn_fkey', 'cnn_sgmt_fkey', 'case_id_pkey',\n",
       "       'tb_latitude', 'tb_longitude', 'geocode_source', 'geocode_location',\n",
       "       'collision_datetime', 'collision_date', 'collision_time',\n",
       "       'accident_year', 'month', 'day_of_week', 'time_cat', 'juris',\n",
       "       'officer_id', 'reporting_district', 'beat_number', 'primary_rd',\n",
       "       'secondary_rd', 'distance', 'direction', 'weather_1', 'weather_2',\n",
       "       'collision_severity', 'type_of_collision', 'mviw', 'ped_action',\n",
       "       'road_surface', 'road_cond_1', 'road_cond_2', 'lighting',\n",
       "       'control_device', 'intersection', 'vz_pcf_code', 'vz_pcf_group',\n",
       "       'vz_pcf_description', 'vz_pcf_link', 'number_killed', 'number_injured',\n",
       "       'street_view', 'dph_col_grp', 'dph_col_grp_description',\n",
       "       'party_at_fault', 'party1_type', 'party1_dir_of_travel',\n",
       "       'party1_move_pre_acc', 'party2_type', 'party2_dir_of_travel',\n",
       "       'party2_move_pre_acc', 'point', 'data_as_of', 'data_updated_at',\n",
       "       'data_loaded_at', 'Neighborhoods', 'SF Find Neighborhoods',\n",
       "       'Current Police Districts', 'Current Supervisor Districts',\n",
       "       'Analysis Neighborhoods'],\n",
       "      dtype='object')"
      ]
     },
     "execution_count": 7,
     "metadata": {},
     "output_type": "execute_result"
    }
   ],
   "source": [
    "og_df.columns"
   ]
  },
  {
   "cell_type": "code",
   "execution_count": 31,
   "id": "21a3a5c5",
   "metadata": {},
   "outputs": [],
   "source": [
    "# things to drop\n",
    "df = og_df.drop(columns=['cnn_intrsctn_fkey', 'cnn_sgmt_fkey', 'case_id_pkey', \n",
    "                      'tb_latitude', 'tb_longitude', 'geocode_source', \n",
    "                      'officer_id', 'beat_number', 'direction', \n",
    "                      'control_device', 'vz_pcf_group', 'vz_pcf_description', \n",
    "                      'vz_pcf_link', 'number_killed', 'number_injured', \n",
    "                      'street_view', 'dph_col_grp', \n",
    "                      'party1_dir_of_travel', 'party1_move_pre_acc', \n",
    "                      'party2_dir_of_travel', 'party2_move_pre_acc', \n",
    "                      'point', 'data_as_of', 'data_updated_at', \n",
    "                      'data_loaded_at', 'Neighborhoods', 'SF Find Neighborhoods', \n",
    "                      'Current Police Districts', 'Current Supervisor Districts', 'Analysis Neighborhoods',\n",
    "                      'reporting_district',\n",
    "                     'geocode_location', 'juris', \n",
    "                         'collision_date', 'collision_time', 'accident_year', 'collision_datetime']) # drop these bc not easy to encode\n",
    "df = df.reset_index() # this is so we can concatenate the one hot encoded stuff\n",
    "\n",
    "# important note: we are removing collision time, so we don't have to remove the collision time NaNs. \n",
    "# would have to drop things later\n",
    "\n",
    "df = df.drop(columns='index') # due to resetting index"
   ]
  },
  {
   "cell_type": "markdown",
   "id": "1ed37f8d",
   "metadata": {},
   "source": [
    "one hot encode everything"
   ]
  },
  {
   "cell_type": "code",
   "execution_count": 33,
   "id": "37f614d8",
   "metadata": {},
   "outputs": [],
   "source": [
    "# dropped collision_datetime because it won't convert to float nicely...\n",
    "# df['collision_datetime'] = pd.to_datetime(df['collision_datetime'])"
   ]
  },
  {
   "cell_type": "code",
   "execution_count": 34,
   "id": "852da7ab",
   "metadata": {},
   "outputs": [],
   "source": [
    "dont_encode = ['unique_id', \n",
    "                'distance', \n",
    "                'party_at_fault',\n",
    "                'collision_severity']\n",
    "cols_to_encode = list(df.columns)\n",
    "for col in dont_encode:\n",
    "    cols_to_encode.remove(col)\n",
    "ct = ColumnTransformer([('onehoteverything', OneHotEncoder(), cols_to_encode)], sparse_threshold=0) # not sparse"
   ]
  },
  {
   "cell_type": "code",
   "execution_count": 35,
   "id": "d7ff8eb2",
   "metadata": {},
   "outputs": [],
   "source": [
    "df_encoded = pd.concat([df[dont_encode].reset_index().drop(columns='index'), pd.DataFrame(df_transformed)], axis = 1)\n"
   ]
  },
  {
   "cell_type": "markdown",
   "id": "62133cb5",
   "metadata": {},
   "source": [
    "split things "
   ]
  },
  {
   "cell_type": "code",
   "execution_count": 56,
   "id": "bfb518bb",
   "metadata": {},
   "outputs": [],
   "source": [
    "df_encoded = df_encoded.dropna(axis=\"index\", subset=[\"party_at_fault\", \"distance\"]) # whatever\n",
    "df_train, df_test = train_test_split(df_encoded, test_size = 0.2, random_state = 42, shuffle = True) # i will never touch this\n",
    "with open('df_test.pkl', 'wb') as handle:\n",
    "    pickle.dump(df_test, handle, protocol=pickle.HIGHEST_PROTOCOL)"
   ]
  },
  {
   "cell_type": "code",
   "execution_count": 57,
   "id": "59244ed7",
   "metadata": {},
   "outputs": [],
   "source": [
    "X = df_train.drop(columns='collision_severity')\n",
    "y = df_train['collision_severity']\n",
    "X_train, X_val, y_train, y_val = train_test_split(X, y, test_size = 0.2, random_state = 42, shuffle = True)"
   ]
  },
  {
   "cell_type": "markdown",
   "id": "0b0b3605",
   "metadata": {},
   "source": [
    "fit model"
   ]
  },
  {
   "cell_type": "code",
   "execution_count": 58,
   "id": "2bf8e37b",
   "metadata": {},
   "outputs": [],
   "source": [
    "from sklearn.ensemble import RandomForestClassifier"
   ]
  },
  {
   "cell_type": "code",
   "execution_count": 59,
   "id": "43d0e4f6",
   "metadata": {},
   "outputs": [],
   "source": [
    "rfc = RandomForestClassifier()"
   ]
  },
  {
   "cell_type": "code",
   "execution_count": 60,
   "id": "5f219270",
   "metadata": {
    "scrolled": true
   },
   "outputs": [
    {
     "name": "stderr",
     "output_type": "stream",
     "text": [
      "/opt/homebrew/lib/python3.10/site-packages/sklearn/utils/validation.py:1858: FutureWarning: Feature names only support names that are all strings. Got feature names with dtypes: ['int', 'str']. An error will be raised in 1.2.\n",
      "  warnings.warn(\n"
     ]
    },
    {
     "data": {
      "text/html": [
       "<style>#sk-container-id-1 {color: black;background-color: white;}#sk-container-id-1 pre{padding: 0;}#sk-container-id-1 div.sk-toggleable {background-color: white;}#sk-container-id-1 label.sk-toggleable__label {cursor: pointer;display: block;width: 100%;margin-bottom: 0;padding: 0.3em;box-sizing: border-box;text-align: center;}#sk-container-id-1 label.sk-toggleable__label-arrow:before {content: \"▸\";float: left;margin-right: 0.25em;color: #696969;}#sk-container-id-1 label.sk-toggleable__label-arrow:hover:before {color: black;}#sk-container-id-1 div.sk-estimator:hover label.sk-toggleable__label-arrow:before {color: black;}#sk-container-id-1 div.sk-toggleable__content {max-height: 0;max-width: 0;overflow: hidden;text-align: left;background-color: #f0f8ff;}#sk-container-id-1 div.sk-toggleable__content pre {margin: 0.2em;color: black;border-radius: 0.25em;background-color: #f0f8ff;}#sk-container-id-1 input.sk-toggleable__control:checked~div.sk-toggleable__content {max-height: 200px;max-width: 100%;overflow: auto;}#sk-container-id-1 input.sk-toggleable__control:checked~label.sk-toggleable__label-arrow:before {content: \"▾\";}#sk-container-id-1 div.sk-estimator input.sk-toggleable__control:checked~label.sk-toggleable__label {background-color: #d4ebff;}#sk-container-id-1 div.sk-label input.sk-toggleable__control:checked~label.sk-toggleable__label {background-color: #d4ebff;}#sk-container-id-1 input.sk-hidden--visually {border: 0;clip: rect(1px 1px 1px 1px);clip: rect(1px, 1px, 1px, 1px);height: 1px;margin: -1px;overflow: hidden;padding: 0;position: absolute;width: 1px;}#sk-container-id-1 div.sk-estimator {font-family: monospace;background-color: #f0f8ff;border: 1px dotted black;border-radius: 0.25em;box-sizing: border-box;margin-bottom: 0.5em;}#sk-container-id-1 div.sk-estimator:hover {background-color: #d4ebff;}#sk-container-id-1 div.sk-parallel-item::after {content: \"\";width: 100%;border-bottom: 1px solid gray;flex-grow: 1;}#sk-container-id-1 div.sk-label:hover label.sk-toggleable__label {background-color: #d4ebff;}#sk-container-id-1 div.sk-serial::before {content: \"\";position: absolute;border-left: 1px solid gray;box-sizing: border-box;top: 0;bottom: 0;left: 50%;z-index: 0;}#sk-container-id-1 div.sk-serial {display: flex;flex-direction: column;align-items: center;background-color: white;padding-right: 0.2em;padding-left: 0.2em;position: relative;}#sk-container-id-1 div.sk-item {position: relative;z-index: 1;}#sk-container-id-1 div.sk-parallel {display: flex;align-items: stretch;justify-content: center;background-color: white;position: relative;}#sk-container-id-1 div.sk-item::before, #sk-container-id-1 div.sk-parallel-item::before {content: \"\";position: absolute;border-left: 1px solid gray;box-sizing: border-box;top: 0;bottom: 0;left: 50%;z-index: -1;}#sk-container-id-1 div.sk-parallel-item {display: flex;flex-direction: column;z-index: 1;position: relative;background-color: white;}#sk-container-id-1 div.sk-parallel-item:first-child::after {align-self: flex-end;width: 50%;}#sk-container-id-1 div.sk-parallel-item:last-child::after {align-self: flex-start;width: 50%;}#sk-container-id-1 div.sk-parallel-item:only-child::after {width: 0;}#sk-container-id-1 div.sk-dashed-wrapped {border: 1px dashed gray;margin: 0 0.4em 0.5em 0.4em;box-sizing: border-box;padding-bottom: 0.4em;background-color: white;}#sk-container-id-1 div.sk-label label {font-family: monospace;font-weight: bold;display: inline-block;line-height: 1.2em;}#sk-container-id-1 div.sk-label-container {text-align: center;}#sk-container-id-1 div.sk-container {/* jupyter's `normalize.less` sets `[hidden] { display: none; }` but bootstrap.min.css set `[hidden] { display: none !important; }` so we also need the `!important` here to be able to override the default hidden behavior on the sphinx rendered scikit-learn.org. See: https://github.com/scikit-learn/scikit-learn/issues/21755 */display: inline-block !important;position: relative;}#sk-container-id-1 div.sk-text-repr-fallback {display: none;}</style><div id=\"sk-container-id-1\" class=\"sk-top-container\"><div class=\"sk-text-repr-fallback\"><pre>RandomForestClassifier()</pre><b>In a Jupyter environment, please rerun this cell to show the HTML representation or trust the notebook. <br />On GitHub, the HTML representation is unable to render, please try loading this page with nbviewer.org.</b></div><div class=\"sk-container\" hidden><div class=\"sk-item\"><div class=\"sk-estimator sk-toggleable\"><input class=\"sk-toggleable__control sk-hidden--visually\" id=\"sk-estimator-id-1\" type=\"checkbox\" checked><label for=\"sk-estimator-id-1\" class=\"sk-toggleable__label sk-toggleable__label-arrow\">RandomForestClassifier</label><div class=\"sk-toggleable__content\"><pre>RandomForestClassifier()</pre></div></div></div></div></div>"
      ],
      "text/plain": [
       "RandomForestClassifier()"
      ]
     },
     "execution_count": 60,
     "metadata": {},
     "output_type": "execute_result"
    }
   ],
   "source": [
    "rfc.fit(X_train, y_train)"
   ]
  },
  {
   "cell_type": "code",
   "execution_count": 63,
   "id": "84913b45",
   "metadata": {},
   "outputs": [
    {
     "name": "stderr",
     "output_type": "stream",
     "text": [
      "/opt/homebrew/lib/python3.10/site-packages/sklearn/utils/validation.py:1858: FutureWarning: Feature names only support names that are all strings. Got feature names with dtypes: ['int', 'str']. An error will be raised in 1.2.\n",
      "  warnings.warn(\n"
     ]
    }
   ],
   "source": [
    "y_pred = rfc.predict(X_val) # predicted"
   ]
  },
  {
   "cell_type": "code",
   "execution_count": 65,
   "id": "36c4a738",
   "metadata": {},
   "outputs": [
    {
     "data": {
      "text/plain": [
       "0.6430084745762712"
      ]
     },
     "execution_count": 65,
     "metadata": {},
     "output_type": "execute_result"
    }
   ],
   "source": [
    "sum(y_pred == y_val)/len(y_val)"
   ]
  },
  {
   "cell_type": "code",
   "execution_count": 68,
   "id": "54c7daa3",
   "metadata": {},
   "outputs": [
    {
     "data": {
      "text/plain": [
       "array(['Fatal', 'Injury (Complaint of Pain)', 'Injury (Other Visible)',\n",
       "       'Injury (Severe)'], dtype=object)"
      ]
     },
     "execution_count": 68,
     "metadata": {},
     "output_type": "execute_result"
    }
   ],
   "source": [
    "np.unique(y_pred)"
   ]
  },
  {
   "cell_type": "code",
   "execution_count": 69,
   "id": "e2f53438",
   "metadata": {},
   "outputs": [
    {
     "data": {
      "text/plain": [
       "array(['Fatal', 'Injury (Complaint of Pain)', 'Injury (Other Visible)',\n",
       "       'Injury (Severe)'], dtype=object)"
      ]
     },
     "execution_count": 69,
     "metadata": {},
     "output_type": "execute_result"
    }
   ],
   "source": [
    "np.unique(y_val)"
   ]
  },
  {
   "cell_type": "code",
   "execution_count": 70,
   "id": "77e92312",
   "metadata": {},
   "outputs": [],
   "source": [
    "from sklearn.metrics import confusion_matrix"
   ]
  },
  {
   "cell_type": "code",
   "execution_count": 72,
   "id": "643d606d",
   "metadata": {},
   "outputs": [
    {
     "data": {
      "text/plain": [
       "array([[   0,   54,   13,    0],\n",
       "       [   1, 4956,  434,    2],\n",
       "       [   0, 1939,  503,    3],\n",
       "       [   0,  467,  120,    4]])"
      ]
     },
     "execution_count": 72,
     "metadata": {},
     "output_type": "execute_result"
    }
   ],
   "source": [
    "confusion_matrix(y_val, y_pred, labels = ['Fatal', 'Injury (Complaint of Pain)', 'Injury (Other Visible)',\n",
    "       'Injury (Severe)'])"
   ]
  }
 ],
 "metadata": {
  "kernelspec": {
   "display_name": "Python 3 (ipykernel)",
   "language": "python",
   "name": "python3"
  },
  "language_info": {
   "codemirror_mode": {
    "name": "ipython",
    "version": 3
   },
   "file_extension": ".py",
   "mimetype": "text/x-python",
   "name": "python",
   "nbconvert_exporter": "python",
   "pygments_lexer": "ipython3",
   "version": "3.10.13"
  }
 },
 "nbformat": 4,
 "nbformat_minor": 5
}
